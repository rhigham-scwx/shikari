{
 "cells": [
  {
   "cell_type": "markdown",
   "id": "noble-parallel",
   "metadata": {},
   "source": [
    "todo: notebook on finding unwanted remote access tools, hypervisors, emulators, etc. Use process, file, and commandline. bonus: network\n",
    "\n",
    "reference CIS Control 2"
   ]
  }
 ],
 "metadata": {
  "kernelspec": {
   "display_name": "Python 3",
   "language": "python",
   "name": "python3"
  },
  "language_info": {
   "codemirror_mode": {
    "name": "ipython",
    "version": 3
   },
   "file_extension": ".py",
   "mimetype": "text/x-python",
   "name": "python",
   "nbconvert_exporter": "python",
   "pygments_lexer": "ipython3",
   "version": "3.7.10"
  }
 },
 "nbformat": 4,
 "nbformat_minor": 5
}
