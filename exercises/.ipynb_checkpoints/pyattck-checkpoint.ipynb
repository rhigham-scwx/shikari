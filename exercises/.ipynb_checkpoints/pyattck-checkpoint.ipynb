{
 "cells": [
  {
   "cell_type": "markdown",
   "metadata": {},
   "source": [
    "# Working with ATT&CK\n",
    "\n",
    "\n",
    "## Background\n",
    "\n",
    "pyattck can be used to query the ATT&CK TAXII server and interact with ATT&CK programatically. In this workbook, we show some basic usage of it, how to generate a coverage spreadsheet, and then how to generate a layer file for navigator.\n",
    "\n",
    "* ATT&CK on Github\n",
    "    * https://github.com/mitre/cti\n",
    "    * https://raw.githubusercontent.com/mitre/cti/master/enterprise-attack/enterprise-attack.json \n",
    "\n",
    "* pyattck\n",
    "    * https://pyattck.readthedocs.io/en/latest/\n",
    "    * https://swimlane.com/blog/swimlane-pyattack-works-with-mitre-att-ck-framework/"
   ]
  },
  {
   "cell_type": "markdown",
   "metadata": {},
   "source": [
    "<hr>\n",
    "\n",
    "## Part 1 - General usage"
   ]
  },
  {
   "cell_type": "code",
   "execution_count": null,
   "metadata": {},
   "outputs": [],
   "source": [
    "from pyattck import Attck\n",
    "\n",
    "attack = Attck()"
   ]
  },
  {
   "cell_type": "code",
   "execution_count": null,
   "metadata": {},
   "outputs": [],
   "source": [
    "for tactic in attack.tactics:\n",
    "    print(tactic.name)"
   ]
  },
  {
   "cell_type": "markdown",
   "metadata": {},
   "source": [
    "## Exploring Tactics"
   ]
  },
  {
   "cell_type": "code",
   "execution_count": null,
   "metadata": {},
   "outputs": [],
   "source": [
    "example_tactic = attack.tactics[0]"
   ]
  },
  {
   "cell_type": "code",
   "execution_count": null,
   "metadata": {},
   "outputs": [],
   "source": [
    "example_tactic.name"
   ]
  },
  {
   "cell_type": "code",
   "execution_count": null,
   "metadata": {},
   "outputs": [],
   "source": [
    "print(example_tactic.description)"
   ]
  },
  {
   "cell_type": "code",
   "execution_count": null,
   "metadata": {},
   "outputs": [],
   "source": [
    "for technique in example_tactic.techniques:\n",
    "    print(technique.id, technique.name)"
   ]
  },
  {
   "cell_type": "markdown",
   "metadata": {},
   "source": [
    "## Exploring Techniques"
   ]
  },
  {
   "cell_type": "code",
   "execution_count": null,
   "metadata": {},
   "outputs": [],
   "source": [
    "example_technique = attack.techniques[5]"
   ]
  },
  {
   "cell_type": "code",
   "execution_count": null,
   "metadata": {},
   "outputs": [],
   "source": [
    "example_technique.name"
   ]
  },
  {
   "cell_type": "code",
   "execution_count": null,
   "metadata": {},
   "outputs": [],
   "source": [
    "example_technique.id"
   ]
  },
  {
   "cell_type": "code",
   "execution_count": null,
   "metadata": {},
   "outputs": [],
   "source": [
    "example_technique.description"
   ]
  },
  {
   "cell_type": "code",
   "execution_count": null,
   "metadata": {},
   "outputs": [],
   "source": [
    "example_technique.wiki"
   ]
  },
  {
   "cell_type": "code",
   "execution_count": null,
   "metadata": {},
   "outputs": [],
   "source": [
    "for actor in example_technique.actors:\n",
    "    print(actor.name)"
   ]
  },
  {
   "cell_type": "code",
   "execution_count": null,
   "metadata": {},
   "outputs": [],
   "source": [
    "example_technique.detection"
   ]
  },
  {
   "cell_type": "code",
   "execution_count": null,
   "metadata": {},
   "outputs": [],
   "source": [
    "for technique in attack.techniques:\n",
    "    print('\\033[1m' + technique.name, '\\033[0m' + '\\n',technique.detection, '\\n')"
   ]
  },
  {
   "cell_type": "markdown",
   "metadata": {},
   "source": [
    "## Exploring Actors"
   ]
  },
  {
   "cell_type": "code",
   "execution_count": null,
   "metadata": {},
   "outputs": [],
   "source": [
    "for actor in attack.actors:\n",
    "    print(actor.description, '\\n')"
   ]
  },
  {
   "cell_type": "code",
   "execution_count": null,
   "metadata": {},
   "outputs": [],
   "source": [
    "for actor in attack.actors:\n",
    "    print(actor.name)\n",
    "    for technique in actor.techniques:\n",
    "        print('-', technique.id, technique.name)"
   ]
  },
  {
   "cell_type": "code",
   "execution_count": null,
   "metadata": {},
   "outputs": [],
   "source": [
    "for actor in attack.actors:\n",
    "    if actor.name == 'APT28':\n",
    "        print('Techniques\\n====')\n",
    "        for technique in actor.techniques:\n",
    "            print('-', technique.id, technique.name)\n",
    "        print('Tools\\n=====')\n",
    "        for tool in actor.tools:\n",
    "            print(tool.name, '-', tool.description.replace('\\n', ' '))\n",
    "        print('\\nMalware\\n=====')\n",
    "        for malware in actor.malwares:\n",
    "            print(malware.name, '-', malware.description)"
   ]
  },
  {
   "cell_type": "markdown",
   "metadata": {},
   "source": [
    "<hr>\n",
    "\n",
    "# Part 2 - Generate Coverage Spreadsheet"
   ]
  },
  {
   "cell_type": "markdown",
   "metadata": {},
   "source": [
    "## Group Techniques by Data Source"
   ]
  },
  {
   "cell_type": "code",
   "execution_count": null,
   "metadata": {},
   "outputs": [],
   "source": [
    "from collections import defaultdict\n",
    "\n",
    "def group_techniques_by_data_source(attack, actor_name=None):\n",
    "    data_sources = defaultdict(list)\n",
    "    for technique in attack.techniques:\n",
    "        if actor_name:\n",
    "            related_actors = [actor.name for actor in technique.actors]\n",
    "            if actor_name not in related_actors:\n",
    "                continue\n",
    "        if technique.data_source:\n",
    "            for data_source in technique.data_source:\n",
    "                data_sources[data_source].append(technique.id)\n",
    "    return data_sources"
   ]
  },
  {
   "cell_type": "code",
   "execution_count": null,
   "metadata": {},
   "outputs": [],
   "source": [
    "data_source_map = group_techniques_by_data_source(attack)"
   ]
  },
  {
   "cell_type": "code",
   "execution_count": null,
   "metadata": {},
   "outputs": [],
   "source": [
    "data_source_map.keys()"
   ]
  },
  {
   "cell_type": "code",
   "execution_count": null,
   "metadata": {},
   "outputs": [],
   "source": [
    "data_source_map['Authentication logs']"
   ]
  },
  {
   "cell_type": "code",
   "execution_count": null,
   "metadata": {},
   "outputs": [],
   "source": [
    "apt1_data_source_map = group_techniques_by_data_source(attack, actor_name='APT1')\n",
    "apt1_data_source_map.keys()"
   ]
  },
  {
   "cell_type": "code",
   "execution_count": null,
   "metadata": {},
   "outputs": [],
   "source": [
    "apt1_data_source_map['Authentication logs']"
   ]
  },
  {
   "cell_type": "markdown",
   "metadata": {},
   "source": [
    "## Generate the spreadsheet"
   ]
  },
  {
   "cell_type": "code",
   "execution_count": null,
   "metadata": {},
   "outputs": [],
   "source": [
    "import pandas as pd\n",
    "\n",
    "def create_data_source_spreadsheet(data_source_map, fp='Data Source Coverage Spreadsheet.xlsx'):\n",
    "    (pd.DataFrame([\n",
    "        {'Data Source': data_source, 'Techniques': techniques}\n",
    "         for data_source, techniques in data_source_map.items()])\n",
    "     .assign(**{'Num of Techniques': lambda df: df.Techniques.str.len(),\n",
    "                'Data Source Available?': '',\n",
    "                'Comments': ''})\n",
    "     .drop(columns=['Techniques'])\n",
    "     .set_index('Data Source')\n",
    "     .sort_index()\n",
    "     .to_excel(fp))\n",
    "    \n",
    "    print(f'Wrote data source coverage spreadsheet to {fp}')"
   ]
  },
  {
   "cell_type": "code",
   "execution_count": null,
   "metadata": {},
   "outputs": [],
   "source": [
    "create_data_source_spreadsheet(data_source_map)"
   ]
  },
  {
   "cell_type": "code",
   "execution_count": null,
   "metadata": {},
   "outputs": [],
   "source": [
    "create_data_source_spreadsheet(apt1_data_source_map, fp='APT1 Data Source Coverage Spreadsheet.xlsx')"
   ]
  }
 ],
 "metadata": {
  "kernelspec": {
   "display_name": "Python 3",
   "language": "python",
   "name": "python3"
  },
  "language_info": {
   "codemirror_mode": {
    "name": "ipython",
    "version": 3
   },
   "file_extension": ".py",
   "mimetype": "text/x-python",
   "name": "python",
   "nbconvert_exporter": "python",
   "pygments_lexer": "ipython3",
   "version": "3.7.6"
  },
  "varInspector": {
   "cols": {
    "lenName": 16,
    "lenType": 16,
    "lenVar": 40
   },
   "kernels_config": {
    "python": {
     "delete_cmd_postfix": "",
     "delete_cmd_prefix": "del ",
     "library": "var_list.py",
     "varRefreshCmd": "print(var_dic_list())"
    },
    "r": {
     "delete_cmd_postfix": ") ",
     "delete_cmd_prefix": "rm(",
     "library": "var_list.r",
     "varRefreshCmd": "cat(var_dic_list()) "
    }
   },
   "types_to_exclude": [
    "module",
    "function",
    "builtin_function_or_method",
    "instance",
    "_Feature"
   ],
   "window_display": false
  }
 },
 "nbformat": 4,
 "nbformat_minor": 2
}
